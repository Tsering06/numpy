{
 "cells": [
  {
   "cell_type": "markdown",
   "id": "0bad548d-4a0b-4b25-b987-9d687aa550d0",
   "metadata": {},
   "source": [
    "## Numpy Exercise Questions"
   ]
  },
  {
   "cell_type": "markdown",
   "id": "01f95b10-c111-440d-8307-dde9c3c3e7bf",
   "metadata": {},
   "source": [
    "- Create a New environment and install numpy in it\n",
    "- Check the version of numpy using pip freeze and __version__"
   ]
  },
  {
   "cell_type": "code",
   "execution_count": null,
   "id": "7ca7d5e9-58ea-428c-b19c-0a55e2b90ffe",
   "metadata": {},
   "outputs": [],
   "source": [
    "conda create -n numpyexercise_env python=3.10  "
   ]
  },
  {
   "cell_type": "code",
   "execution_count": 2,
   "id": "a5d32f5e-04a9-414a-b7c2-1fc0370f8bf8",
   "metadata": {},
   "outputs": [
    {
     "name": "stdout",
     "output_type": "stream",
     "text": [
      "Requirement already satisfied: numpy in c:\\users\\acer\\anaconda3\\envs\\numpyexercise_env\\lib\\site-packages (2.2.6)\n"
     ]
    }
   ],
   "source": [
    "!pip install numpy"
   ]
  },
  {
   "cell_type": "code",
   "execution_count": 3,
   "id": "4ec1d048-d313-45c1-8941-d0078d6ba02c",
   "metadata": {},
   "outputs": [
    {
     "name": "stdout",
     "output_type": "stream",
     "text": [
      "numpy==2.2.6\n"
     ]
    }
   ],
   "source": [
    "!pip freeze"
   ]
  },
  {
   "cell_type": "code",
   "execution_count": 4,
   "id": "3f2cc95a-b3da-423e-b0ed-a2dd1aee116f",
   "metadata": {},
   "outputs": [
    {
     "name": "stdout",
     "output_type": "stream",
     "text": [
      "numpy version: 2.1.3\n"
     ]
    }
   ],
   "source": [
    "import numpy as np\n",
    "print(\"numpy version:\", np.__version__)"
   ]
  },
  {
   "cell_type": "markdown",
   "id": "c425774e-29cc-4322-99f6-73a3886dbcde",
   "metadata": {},
   "source": [
    "### element wise addition"
   ]
  },
  {
   "cell_type": "code",
   "execution_count": 7,
   "id": "dfdf83fc-a277-469d-97b2-0b97cd743af4",
   "metadata": {},
   "outputs": [
    {
     "name": "stdout",
     "output_type": "stream",
     "text": [
      "[[11. 13. 15.]\n",
      " [17. 19. 21.]]\n",
      "[[11. 13. 15.]\n",
      " [17. 19. 21.]]\n"
     ]
    }
   ],
   "source": [
    "import numpy as np\n",
    "x = np.array([[1,2,3],\n",
    "             [4,5,6]], dtype=np.float64)\n",
    "y = np.array([[10,11,12],\n",
    "              [13,14,15]], dtype=np.float64)\n",
    "\n",
    "print(x + y)\n",
    "print(np.add(x,y))"
   ]
  },
  {
   "cell_type": "markdown",
   "id": "a33d9471-d4f1-42aa-89f5-2f0135ea4036",
   "metadata": {},
   "source": [
    "### Multiply matrix with scaler 2"
   ]
  },
  {
   "cell_type": "code",
   "execution_count": 8,
   "id": "a3da51ed-d8b0-4fb0-bf9e-4e9c93d2d6b5",
   "metadata": {},
   "outputs": [
    {
     "name": "stdout",
     "output_type": "stream",
     "text": [
      "[[ 2  4  6]\n",
      " [ 8 10 12]]\n"
     ]
    }
   ],
   "source": [
    "import numpy as np\n",
    "x = np.array([[1,2,3],\n",
    "             [4,5,6]])\n",
    "\n",
    "print( x*2)"
   ]
  },
  {
   "cell_type": "markdown",
   "id": "edb2a06c-929c-423f-8905-645c33ee26a1",
   "metadata": {},
   "source": [
    "### Identity matrix of 4*4"
   ]
  },
  {
   "cell_type": "code",
   "execution_count": 11,
   "id": "08e3e1fc-d38a-4d7c-8e08-7ec77185d993",
   "metadata": {},
   "outputs": [
    {
     "name": "stdout",
     "output_type": "stream",
     "text": [
      "[[1. 0. 0. 0.]\n",
      " [0. 1. 0. 0.]\n",
      " [0. 0. 1. 0.]\n",
      " [0. 0. 0. 1.]]\n"
     ]
    }
   ],
   "source": [
    "a = np.eye(4)\n",
    "print(a)"
   ]
  },
  {
   "cell_type": "markdown",
   "id": "f758271b-b49b-4caa-a43f-87284fdf3077",
   "metadata": {},
   "source": [
    "### Construct 1D array and reshape it to 3D array 3*3 shape"
   ]
  },
  {
   "cell_type": "code",
   "execution_count": 20,
   "id": "772bbf94-da17-4340-99e7-a67205fd4737",
   "metadata": {},
   "outputs": [
    {
     "data": {
      "text/plain": [
       "array([[0, 1, 2],\n",
       "       [3, 4, 5],\n",
       "       [6, 7, 8]])"
      ]
     },
     "execution_count": 20,
     "metadata": {},
     "output_type": "execute_result"
    }
   ],
   "source": [
    "import numpy as np\n",
    "data = np.array([0,1,2,3,4,5,6, 7, 8])\n",
    "data.reshape(3,3)"
   ]
  },
  {
   "cell_type": "code",
   "execution_count": null,
   "id": "953f6d5d-7819-4d05-b3c3-f5a58372116a",
   "metadata": {},
   "outputs": [],
   "source": [
    "import numpy as np\n",
    "data = np.array([\n",
    "    [[0, 1, 2],\n",
    "     [3, 4, 5],\n",
    "     [6, 7, 8]],\n",
    "    \n",
    "    [[9, 10, 11],\n",
    "     [12, 13, 14],\n",
    "     [15, 16, 17]],\n",
    "    \n",
    "    [[18, 19, 20],\n",
    "     [21, 22, 23],\n",
    "     [24, 25, 26]]\n",
    "])\n",
    "data.reshape(9,3)"
   ]
  },
  {
   "cell_type": "markdown",
   "id": "6e726d28-e468-44d0-a8b2-fc0f94f8caf0",
   "metadata": {},
   "source": [
    "### convert numpy array from float to int"
   ]
  },
  {
   "cell_type": "code",
   "execution_count": 25,
   "id": "482cc5cd-2ef5-4997-98b2-69dd740dcd2c",
   "metadata": {},
   "outputs": [
    {
     "name": "stdout",
     "output_type": "stream",
     "text": [
      "[[2 3 1]\n",
      " [4 2 1]]\n"
     ]
    }
   ],
   "source": [
    "import numpy as np\n",
    "f_array = np.array([[2.5, 3.8, 1.5],\n",
    "                    [4.7, 2.9, 1.56]])\n",
    "int_array = f_array.astype(int)\n",
    "print(int_array)"
   ]
  },
  {
   "cell_type": "markdown",
   "id": "ad2589d3-1e90-4115-87e2-433c36b0e2cb",
   "metadata": {},
   "source": [
    "### to boolean numpy array"
   ]
  },
  {
   "cell_type": "code",
   "execution_count": 28,
   "id": "434236a5-3513-4dea-b097-a519ab0f0067",
   "metadata": {},
   "outputs": [
    {
     "name": "stdout",
     "output_type": "stream",
     "text": [
      "[[ True  True  True]\n",
      " [ True  True  True]]\n"
     ]
    }
   ],
   "source": [
    "import numpy as np\n",
    "bin_array = np.array([[1, 0, 0],\n",
    "                      [1, 1, 1],\n",
    "                      [0, 0, 0]])\n",
    "bool_array = f_array.astype(bool)\n",
    "print(bool_array)"
   ]
  },
  {
   "cell_type": "markdown",
   "id": "dad3e559-a05f-4a2b-bb79-d37f435b7926",
   "metadata": {},
   "source": [
    "## Horizontally stack array\n"
   ]
  },
  {
   "cell_type": "code",
   "execution_count": 30,
   "id": "1f289d56-54f3-4932-a61f-ea66d779e24b",
   "metadata": {},
   "outputs": [
    {
     "data": {
      "text/plain": [
       "array([[ 1,  2,  3],\n",
       "       [ 4,  5,  6],\n",
       "       [ 7,  8,  9],\n",
       "       [10, 11, 12]])"
      ]
     },
     "execution_count": 30,
     "metadata": {},
     "output_type": "execute_result"
    }
   ],
   "source": [
    "a = np.array([[1,2,3],\n",
    "              [4,5,6]])\n",
    "b = np.array([[7,8,9],\n",
    "              [10,11,12]])\n",
    "np.vstack((a,b))"
   ]
  },
  {
   "cell_type": "markdown",
   "id": "9a3ff635-6987-4b83-a70c-a345974da2e0",
   "metadata": {},
   "source": [
    "### Sequence of number from 0-100 with gap 2"
   ]
  },
  {
   "cell_type": "code",
   "execution_count": 31,
   "id": "25051693-617f-4717-aa6a-7f383f52f183",
   "metadata": {},
   "outputs": [
    {
     "name": "stdout",
     "output_type": "stream",
     "text": [
      "[ 0  2  4  6  8 10 12 14 16 18 20 22 24 26 28 30 32 34 36 38 40 42 44 46\n",
      " 48 50 52 54 56 58 60 62 64 66 68 70 72 74 76 78 80 82 84 86 88 90 92 94\n",
      " 96 98]\n"
     ]
    }
   ],
   "source": [
    "import numpy as np\n",
    "seq = np.arange(0,100,2)\n",
    "print(seq)"
   ]
  },
  {
   "cell_type": "code",
   "execution_count": 32,
   "id": "edf70b5a-6223-46fa-a9b5-f053fe99a289",
   "metadata": {},
   "outputs": [
    {
     "name": "stdout",
     "output_type": "stream",
     "text": [
      "[  0   2   4   6   8  10  12  14  16  18  20  22  24  26  28  30  32  34\n",
      "  36  38  40  42  44  46  48  50  52  54  56  58  60  62  64  66  68  70\n",
      "  72  74  76  78  80  82  84  86  88  90  92  94  96  98 100]\n"
     ]
    }
   ],
   "source": [
    "import numpy as np\n",
    "seq = np.arange(0,102,2)\n",
    "print(seq)"
   ]
  },
  {
   "cell_type": "markdown",
   "id": "483c07e7-3c9d-45fb-8c9a-eeefaabafe77",
   "metadata": {},
   "source": [
    "Write a NumPy program that creates a large 1D array using np.random.rand and write a function to calculate the sum of its elements using a for loop. Then, optimize it using NumPy's built-in functions."
   ]
  },
  {
   "cell_type": "code",
   "execution_count": 33,
   "id": "270f0091-52db-4c3a-be55-ee118888c3c4",
   "metadata": {},
   "outputs": [
    {
     "name": "stdout",
     "output_type": "stream",
     "text": [
      "500382.1885391308\n"
     ]
    }
   ],
   "source": [
    "import numpy as np\n",
    "array = np.random.rand(1000000)\n",
    "sum= np.sum(array)\n",
    "print(sum)"
   ]
  },
  {
   "cell_type": "code",
   "execution_count": null,
   "id": "6456d9fa-13c6-4b28-af9c-a13707359b2b",
   "metadata": {},
   "outputs": [],
   "source": []
  },
  {
   "cell_type": "markdown",
   "id": "9fe7fc84-c006-4b64-a544-06825931984e",
   "metadata": {},
   "source": [
    "From 2 numpy arrays, extract the indexes in which the elements in the 2 arrays match [1,2,3,4,5] and [1,3,2,4,5]"
   ]
  },
  {
   "cell_type": "code",
   "execution_count": 36,
   "id": "ca0897a8-74b8-4ec4-9a05-d5310273dfe2",
   "metadata": {},
   "outputs": [
    {
     "name": "stdout",
     "output_type": "stream",
     "text": [
      "match indixes: (array([0, 3, 4]),)\n"
     ]
    }
   ],
   "source": [
    "import numpy as np\n",
    "a = np.array([1, 2, 3, 4, 5])\n",
    "b = np.array([1, 3, 2, 4, 5])\n",
    "indexes_match = np.where(a == b)\n",
    "print(\"match indixes:\",indexes_match)"
   ]
  },
  {
   "cell_type": "markdown",
   "id": "e0d85686-dc74-4023-b207-c1e74885d3e2",
   "metadata": {},
   "source": [
    "Output a sequence of equally gapped 5 numbers in the range 0 to 100 Output: [  0.  25.  50.  75. 100.]"
   ]
  },
  {
   "cell_type": "code",
   "execution_count": 40,
   "id": "0acc1e72-5cdd-43cf-8f5b-2c4cbf142e07",
   "metadata": {},
   "outputs": [
    {
     "name": "stdout",
     "output_type": "stream",
     "text": [
      "[ 0  5 10 15 20 25 30 35 40 45 50 55 60 65 70 75 80 85 90 95]\n"
     ]
    }
   ],
   "source": [
    "import numpy as np\n",
    "seq = np.arange(0,100,5)\n",
    "print(seq)"
   ]
  },
  {
   "cell_type": "code",
   "execution_count": 39,
   "id": "e45393c9-8fcb-45fe-857e-c8a707e9233a",
   "metadata": {},
   "outputs": [
    {
     "name": "stdout",
     "output_type": "stream",
     "text": [
      "[  0.  25.  50.  75. 100.]\n"
     ]
    }
   ],
   "source": [
    "#Using np.linspace\n",
    "import numpy as np\n",
    "seq = np.linspace(0,100,5)\n",
    "print(seq)"
   ]
  },
  {
   "cell_type": "markdown",
   "id": "f4023c20-e112-4c75-92d4-4eb2f429f0c9",
   "metadata": {},
   "source": [
    "Output a matrix (numpy array) of dimension 2-by-3 with each and every value equal to 5\n",
    "\n"
   ]
  },
  {
   "cell_type": "code",
   "execution_count": 43,
   "id": "be5e7cf3-fa67-483f-a376-9e28c4347a90",
   "metadata": {},
   "outputs": [
    {
     "name": "stdout",
     "output_type": "stream",
     "text": [
      "[[5 5 5]\n",
      " [5 5 5]]\n"
     ]
    }
   ],
   "source": [
    "a = np.full((2,3),5)\n",
    "print(a)"
   ]
  },
  {
   "cell_type": "markdown",
   "id": "0639e034-b3c8-4d9c-908c-a71c9d12147c",
   "metadata": {},
   "source": [
    "Output a 5-by-5 array of random integers between 0 and 10"
   ]
  },
  {
   "cell_type": "code",
   "execution_count": 44,
   "id": "0d3bcd72-d7d3-4560-9948-21210ed6d414",
   "metadata": {},
   "outputs": [
    {
     "name": "stdout",
     "output_type": "stream",
     "text": [
      "[[0.95030948 0.20596334 0.35584564 0.63850747 0.65900434]\n",
      " [0.23875231 0.03223858 0.60320828 0.99576913 0.57649411]\n",
      " [0.65339406 0.482367   0.15532231 0.60235759 0.52321343]\n",
      " [0.60657596 0.28091094 0.14493827 0.45475115 0.10983784]\n",
      " [0.71015118 0.82289204 0.71004917 0.56597573 0.9624869 ]]\n"
     ]
    }
   ],
   "source": [
    "e = np.random.random((5,5))\n",
    "print(e)"
   ]
  },
  {
   "cell_type": "code",
   "execution_count": 54,
   "id": "c0a262b0-9099-4799-af78-1722a4a43e58",
   "metadata": {},
   "outputs": [
    {
     "name": "stdout",
     "output_type": "stream",
     "text": [
      "[[5 2 8 2 5]\n",
      " [2 9 2 4 4]\n",
      " [2 8 5 1 8]\n",
      " [2 2 8 2 6]\n",
      " [5 5 9 0 9]]\n"
     ]
    }
   ],
   "source": [
    "import numpy as np\n",
    "e = np.random.randint(0,10, size=(5,5))\n",
    "print(e)"
   ]
  },
  {
   "cell_type": "markdown",
   "id": "954da4f3-5b54-482e-a5d5-71abfe691366",
   "metadata": {},
   "source": [
    "## DOT product"
   ]
  },
  {
   "cell_type": "code",
   "execution_count": 55,
   "id": "73fad3d9-50e5-4434-a753-e0a9335d4843",
   "metadata": {},
   "outputs": [
    {
     "name": "stdout",
     "output_type": "stream",
     "text": [
      "[[16 19]\n",
      " [26 31]]\n",
      "[[16 19]\n",
      " [26 31]]\n"
     ]
    }
   ],
   "source": [
    "import numpy as np\n",
    "x= np.array([[1,2],[2,3]])\n",
    "y= np.array([[4,5],[6,7]])\n",
    "\n",
    "#Inner product\n",
    "print(x.dot(y))\n",
    "print(np.dot(x,y))"
   ]
  },
  {
   "cell_type": "code",
   "execution_count": 56,
   "id": "969740b9-e8ab-4ef8-b1dd-590f8881c750",
   "metadata": {},
   "outputs": [
    {
     "name": "stdout",
     "output_type": "stream",
     "text": [
      "[[ 36  42  48]\n",
      " [ 81  96 111]\n",
      " [126 150 174]]\n",
      "[[ 36  42  48]\n",
      " [ 81  96 111]\n",
      " [126 150 174]]\n"
     ]
    }
   ],
   "source": [
    "import numpy as np\n",
    "x= np.array([[1,2,3],[4,5,6],[7,8,9]])\n",
    "y= np.array([[2,3,4],[5,6,7],[8,9,10]])\n",
    "\n",
    "#Inner product\n",
    "print(x.dot(y))\n",
    "print(np.dot(x,y))"
   ]
  },
  {
   "cell_type": "markdown",
   "id": "bfa08ab6-59a3-4eca-bf8c-310185c28e49",
   "metadata": {},
   "source": [
    "construct a 2X3 random matrix and transpose it"
   ]
  },
  {
   "cell_type": "code",
   "execution_count": 57,
   "id": "7fcdda99-2a74-460d-b953-106b3bd701b9",
   "metadata": {},
   "outputs": [
    {
     "data": {
      "text/plain": [
       "array([2, 3])"
      ]
     },
     "execution_count": 57,
     "metadata": {},
     "output_type": "execute_result"
    }
   ],
   "source": [
    "ary = np.array([2,3])\n",
    "ary.T"
   ]
  },
  {
   "cell_type": "code",
   "execution_count": 59,
   "id": "f933ab6c-b177-4253-aa25-9cbca459da0d",
   "metadata": {},
   "outputs": [
    {
     "name": "stdout",
     "output_type": "stream",
     "text": [
      "[[0.91226875 0.57040184]\n",
      " [0.68210279 0.54610259]\n",
      " [0.39363828 0.08961061]]\n"
     ]
    }
   ],
   "source": [
    "import numpy as np\n",
    "random_matrix = np.random.rand(2, 3)\n",
    "transposed_matrix = random_matrix.T\n",
    "print(transposed_matrix)"
   ]
  },
  {
   "cell_type": "markdown",
   "id": "de6b387c-e861-48fa-80f4-0fcb313c404d",
   "metadata": {},
   "source": [
    "# calculate std for flatten (whole std)\n",
    "# calculate std along axis 0 and 1 also"
   ]
  },
  {
   "cell_type": "code",
   "execution_count": 60,
   "id": "e7435578-6bad-427c-95d0-4d3549c0acc9",
   "metadata": {},
   "outputs": [
    {
     "name": "stdout",
     "output_type": "stream",
     "text": [
      "15.3668474320532\n"
     ]
    }
   ],
   "source": [
    "import numpy as np\n",
    "matrix = np.array([\n",
    "    [2, 2, 2, 2, 2],\n",
    "    [15, 6, 27, 8, 2],\n",
    "    [23, 2, 54, 1, 2],\n",
    "    [11, 44, 34, 7, 2],\n",
    "])\n",
    "whole_std = np.std(matrix)\n",
    "print(whole_std)"
   ]
  },
  {
   "cell_type": "code",
   "execution_count": 61,
   "id": "fa7f0aee-a414-49d9-b8e0-3bebef53f293",
   "metadata": {},
   "outputs": [
    {
     "name": "stdout",
     "output_type": "stream",
     "text": [
      "[ 7.56224173 17.68473918 18.59267329  3.04138127  0.        ]\n"
     ]
    }
   ],
   "source": [
    "import numpy as np\n",
    "matrix = np.array([\n",
    "    [2, 2, 2, 2, 2],\n",
    "    [15, 6, 27, 8, 2],\n",
    "    [23, 2, 54, 1, 2],\n",
    "    [11, 44, 34, 7, 2],\n",
    "])\n",
    "whole_std = np.std(matrix, axis = 0)\n",
    "print(whole_std)"
   ]
  },
  {
   "cell_type": "code",
   "execution_count": 62,
   "id": "3e10a4a5-a865-4dd3-b0e1-89475459db1b",
   "metadata": {},
   "outputs": [
    {
     "name": "stdout",
     "output_type": "stream",
     "text": [
      "[ 0.          8.7772433  20.53874388 16.40243884]\n"
     ]
    }
   ],
   "source": [
    "import numpy as np\n",
    "matrix = np.array([\n",
    "    [2, 2, 2, 2, 2],\n",
    "    [15, 6, 27, 8, 2],\n",
    "    [23, 2, 54, 1, 2],\n",
    "    [11, 44, 34, 7, 2],\n",
    "])\n",
    "whole_std = np.std(matrix, axis = 1)\n",
    "print(whole_std)"
   ]
  },
  {
   "cell_type": "markdown",
   "id": "4b4a2d3e-580c-45d7-8b08-8aa9af9e86b2",
   "metadata": {},
   "source": [
    "## Use case of inverse matrix"
   ]
  },
  {
   "cell_type": "code",
   "execution_count": null,
   "id": "eea9ec3c-7b82-404a-ae46-2c045f8913aa",
   "metadata": {},
   "outputs": [],
   "source": [
    "import numpy as np\n",
    "a = np.array([\n",
    "    [6, 4, 2],\n",
    "    [1, -2, 8],\n",
    "    [1, 5, 7]\n",
    "])\n",
    "inv_matrix=np.linalg.inv(a)\n",
    "print(inv_matrix)\n"
   ]
  },
  {
   "cell_type": "code",
   "execution_count": null,
   "id": "25829e52-241a-4342-938c-9877a318e3b6",
   "metadata": {},
   "outputs": [],
   "source": []
  },
  {
   "cell_type": "markdown",
   "id": "ee49bc50-b71a-4836-8a27-f8d85fbf695c",
   "metadata": {},
   "source": [
    "Load an Image using PIL and convert to numpy array."
   ]
  },
  {
   "cell_type": "code",
   "execution_count": null,
   "id": "a4d2ed45-4c9f-4c20-bd29-7767bd8ca945",
   "metadata": {},
   "outputs": [],
   "source": [
    "from PIL import Image\n",
    "import numpy as np\n",
    "image = Image.open('\"C:\\Users\\ACER\\Documents\\ViberDownloads\\0-02-03-06d6c24f5198a5ecff230fd3d0344d352f69f267ab17334cb2fba7a244eb9848_100e1aead4776547.jpg\"')\n",
    "image_array = np.array(image)\n"
   ]
  },
  {
   "cell_type": "markdown",
   "id": "1319be3e-7c0b-44c3-8945-eb81082688b1",
   "metadata": {},
   "source": [
    "convert dictionary {0: 0, 1: 1, 2: 8, 3: 27,\n",
    "                4: 64, 5: 125, 6: 216}\n",
    "to array"
   ]
  },
  {
   "cell_type": "code",
   "execution_count": 2,
   "id": "34d9b548-28fe-4e1e-8b68-826715f52c5c",
   "metadata": {},
   "outputs": [
    {
     "name": "stdout",
     "output_type": "stream",
     "text": [
      "[0, 1, 8, 27, 64, 125, 216]\n"
     ]
    }
   ],
   "source": [
    "d = {0: 0, 1: 1, 2: 8, 3: 27, 4: 64, 5: 125, 6: 216}\n",
    "arr = [d[key] for key in sorted(d)]\n",
    "print(arr)"
   ]
  },
  {
   "cell_type": "markdown",
   "id": "ca4e51df-15c1-4f69-be61-877955dda379",
   "metadata": {},
   "source": [
    "solve the following equatio\n",
    "3x+y-2z=9,\n",
    "2x-y+z=3,\n",
    "x+2y+3z=12"
   ]
  },
  {
   "cell_type": "code",
   "execution_count": 1,
   "id": "046c4117-c827-4f0f-bcce-fc86484c75e0",
   "metadata": {},
   "outputs": [
    {
     "name": "stdout",
     "output_type": "stream",
     "text": [
      "[2.6 3.2 1. ]\n"
     ]
    }
   ],
   "source": [
    "import numpy as np\n",
    "\n",
    "A = np.array([[3, 1, -2],\n",
    "              [2, -1, 1],\n",
    "              [1, 2, 3]])\n",
    "\n",
    "B = np.array([9, 3, 12])\n",
    "\n",
    "values = np.linalg.solve(A, B)\n",
    "print(values)\n",
    "\n"
   ]
  },
  {
   "cell_type": "markdown",
   "id": "52916bde-cbca-4cd0-b5fc-76fa1da741e5",
   "metadata": {},
   "source": [
    "### 3*3*3 array with random values and flatten to 1D array"
   ]
  },
  {
   "cell_type": "code",
   "execution_count": 5,
   "id": "51081511-6da2-4234-8af9-fdf1bf9cf67f",
   "metadata": {},
   "outputs": [
    {
     "name": "stdout",
     "output_type": "stream",
     "text": [
      "[0.14136269 0.74890732 0.48329828 0.36917197 0.81304352 0.53625585\n",
      " 0.26346844 0.85501571 0.24426662 0.79820824 0.50503124 0.29136269\n",
      " 0.027298   0.1993054  0.58206615 0.62776053 0.64926159 0.22537509\n",
      " 0.10965985 0.83690651 0.88103814 0.30593207 0.3849404  0.56463787\n",
      " 0.57740059 0.96122164 0.61956601]\n"
     ]
    }
   ],
   "source": [
    "import numpy as np\n",
    "threed_array = np.random.rand(3, 3, 3)\n",
    "flattened_array = threed_array.flatten()\n",
    "print(flattened_array)\n"
   ]
  },
  {
   "cell_type": "markdown",
   "id": "7a6290aa-7dd4-4022-bf50-c1bf0a5fc178",
   "metadata": {},
   "source": [
    "Write a NumPy program to create a 3x3 array with random values and calculate the pairwise Euclidean distance between each pair of rows."
   ]
  },
  {
   "cell_type": "code",
   "execution_count": null,
   "id": "ef6de5b9-0391-4667-9df1-77b70269d3e8",
   "metadata": {},
   "outputs": [],
   "source": [
    "import numpy as np\n",
    "from scipy.spatial.distance import cdist\n",
    "\n",
    "array = np.random.rand(3, 3)\n",
    "print(\"Original array:\", array)\n",
    "\n",
    "distances = cdist(array, array, metric='euclidean')\n",
    "print(\"Pairwise Euclidean distances:\", distances)\n"
   ]
  },
  {
   "cell_type": "code",
   "execution_count": null,
   "id": "6c4fb354-337c-4793-afb9-dbfbadad462f",
   "metadata": {},
   "outputs": [],
   "source": [
    "df.head()"
   ]
  },
  {
   "cell_type": "code",
   "execution_count": null,
   "id": "096f9e1e",
   "metadata": {},
   "outputs": [],
   "source": []
  }
 ],
 "metadata": {
  "kernelspec": {
   "display_name": "Python 3 (ipykernel)",
   "language": "python",
   "name": "python3"
  },
  "language_info": {
   "codemirror_mode": {
    "name": "ipython",
    "version": 3
   },
   "file_extension": ".py",
   "mimetype": "text/x-python",
   "name": "python",
   "nbconvert_exporter": "python",
   "pygments_lexer": "ipython3",
   "version": "3.13.5"
  }
 },
 "nbformat": 4,
 "nbformat_minor": 5
}
